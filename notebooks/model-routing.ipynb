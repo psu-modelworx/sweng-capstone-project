{
 "cells": [
  {
   "cell_type": "code",
   "execution_count": 51,
   "id": "9c12ffe6-58b3-41c5-b7a6-fe9b0dbcc59d",
   "metadata": {},
   "outputs": [],
   "source": [
    "import sys\n",
    "import os\n",
    "\n",
    "import pandas as pd\n",
    "import numpy as np\n",
    "\n",
    "from sklearn.model_selection import cross_val_score, GridSearchCV, train_test_split\n",
    "from sklearn.preprocessing import StandardScaler, LabelEncoder, MinMaxScaler, OneHotEncoder\n",
    "from sklearn.metrics import make_scorer, accuracy_score, r2_score, confusion_matrix, ConfusionMatrixDisplay\n",
    "\n",
    "from sklearn.linear_model import LogisticRegression, LinearRegression\n",
    "from sklearn.ensemble import RandomForestClassifier, GradientBoostingClassifier\n",
    "from sklearn.ensemble import RandomForestRegressor, GradientBoostingRegressor\n",
    "from sklearn.svm import SVC, SVR\n",
    "\n",
    "from sklearn.compose import ColumnTransformer\n",
    "from sklearn.pipeline import Pipeline\n",
    "\n",
    "import matplotlib.pyplot as plt"
   ]
  },
  {
   "cell_type": "code",
   "execution_count": 76,
   "id": "9cd5a984-bda1-4ad8-9bbe-fb3b5dd03593",
   "metadata": {},
   "outputs": [],
   "source": [
    "# add the project root to the path to call in modeling engine\n",
    "project_root = os.path.abspath(os.path.join(os.getcwd(), '..'))\n",
    "if project_root not in sys.path:\n",
    "    sys.path.insert(0, project_root)"
   ]
  },
  {
   "cell_type": "code",
   "execution_count": 52,
   "id": "7e2c9926-439e-43d6-ba3d-fff308d6f6c2",
   "metadata": {},
   "outputs": [
    {
     "name": "stdout",
     "output_type": "stream",
     "text": [
      "   sepal_length  sepal_width  petal_length  petal_width      species\n",
      "0           5.1          3.5           1.4          0.2  Iris-setosa\n",
      "1           4.9          3.0           1.4          0.2  Iris-setosa\n",
      "2           4.7          3.2           1.3          0.2  Iris-setosa\n",
      "3           4.6          3.1           1.5          0.2  Iris-setosa\n",
      "4           5.0          3.6           1.4          0.2  Iris-setosa\n"
     ]
    }
   ],
   "source": [
    "# Read in the test data. This will have already been preprocessed by the preprocessing engine\n",
    "file_path = os.path.join('..', 'test-data', 'IRIS.csv')\n",
    "df = pd.read_csv(file_path)\n",
    "print(df.head())"
   ]
  },
  {
   "cell_type": "code",
   "execution_count": 53,
   "id": "2b5ff211-9579-4138-97ac-827a8ca8c464",
   "metadata": {},
   "outputs": [
    {
     "name": "stdout",
     "output_type": "stream",
     "text": [
      "             species  species_numeric\n",
      "0        Iris-setosa                0\n",
      "50   Iris-versicolor                1\n",
      "100   Iris-virginica                2\n"
     ]
    }
   ],
   "source": [
    "# this data set has non-numeric categories, lets make a numeric label column\n",
    "df['species_numeric'] = df['species'].astype('category').cat.codes\n",
    "label_names = df['species'].astype('category').cat.categories # save this so later we can make conf matrix\n",
    "print(df[['species', 'species_numeric']].drop_duplicates())"
   ]
  },
  {
   "cell_type": "code",
   "execution_count": 54,
   "id": "5f6ffbcd-fed1-41eb-9b19-586bad55e9cb",
   "metadata": {},
   "outputs": [
    {
     "name": "stdout",
     "output_type": "stream",
     "text": [
      "Features:\n",
      "   sepal_length  sepal_width  petal_length  petal_width\n",
      "0           5.1          3.5           1.4          0.2\n",
      "1           4.9          3.0           1.4          0.2\n",
      "2           4.7          3.2           1.3          0.2\n",
      "3           4.6          3.1           1.5          0.2\n",
      "4           5.0          3.6           1.4          0.2\n",
      "Target:\n",
      "0    0\n",
      "1    0\n",
      "2    0\n",
      "3    0\n",
      "4    0\n",
      "Name: species_numeric, dtype: int8\n"
     ]
    }
   ],
   "source": [
    "# assuming weve been provided the target column:\n",
    "target_column = 'species_numeric'\n",
    "X = df.drop(columns=['species', target_column])  # we know we have to drop species here too\n",
    "y = df[target_column]\n",
    "print(\"Features:\")\n",
    "print(X.head())\n",
    "print(\"Target:\")\n",
    "print(y.head())"
   ]
  },
  {
   "cell_type": "code",
   "execution_count": 55,
   "id": "9f73a8ff-010d-4deb-8748-4788e01d98d7",
   "metadata": {},
   "outputs": [
    {
     "name": "stdout",
     "output_type": "stream",
     "text": [
      "   sepal_length  sepal_width  petal_length  petal_width\n",
      "0      0.222222     0.625000      0.067797     0.041667\n",
      "1      0.166667     0.416667      0.067797     0.041667\n",
      "2      0.111111     0.500000      0.050847     0.041667\n",
      "3      0.083333     0.458333      0.084746     0.041667\n",
      "4      0.194444     0.666667      0.067797     0.041667\n"
     ]
    }
   ],
   "source": [
    "# assuming the scaling will be done in the preprocessing step:\n",
    "scaler = MinMaxScaler()\n",
    "X_scaled = scaler.fit_transform(X)\n",
    "X_scaled_df = pd.DataFrame(X_scaled, columns=X.columns)\n",
    "print(X_scaled_df.head())"
   ]
  },
  {
   "cell_type": "code",
   "execution_count": 56,
   "id": "346ff777-a444-4823-b95d-ecf234ac0052",
   "metadata": {},
   "outputs": [],
   "source": [
    "# now that we know its scaled, split into test and train. \n",
    "# this will have also been done in preprocessing\n",
    "X_train, X_test, y_train, y_test = train_test_split(X_scaled, y, test_size=0.2, random_state=42)"
   ]
  },
  {
   "cell_type": "code",
   "execution_count": 57,
   "id": "398b8037-8fef-4b67-ae16-0a2236dbfe42",
   "metadata": {},
   "outputs": [
    {
     "name": "stdout",
     "output_type": "stream",
     "text": [
      "['LogisticRegression', 'RandomForestClassifier', 'GradientBoostingClassifier', 'SVC']\n"
     ]
    }
   ],
   "source": [
    "# task type will likely be user input\n",
    "task_type = 'classification' # or regression\n",
    "\n",
    "if task_type == 'classification':\n",
    "    models = {\n",
    "        'LogisticRegression': LogisticRegression(max_iter=1000),\n",
    "        'RandomForestClassifier': RandomForestClassifier(),\n",
    "        'GradientBoostingClassifier': GradientBoostingClassifier(),\n",
    "        'SVC': SVC()\n",
    "    }\n",
    "else:\n",
    "    models = {\n",
    "        'LinearRegression': LinearRegression(),\n",
    "        'RandomForestRegressor': RandomForestRegressor(),\n",
    "        'GradientBoostingRegressor': GradientBoostingRegressor(),\n",
    "        'SVR': SVR()\n",
    "    }\n",
    "\n",
    "print(list(models.keys()))"
   ]
  },
  {
   "cell_type": "code",
   "execution_count": 58,
   "id": "fb190c09-441a-4995-b1b2-f3a7e23e6b8d",
   "metadata": {},
   "outputs": [
    {
     "name": "stdout",
     "output_type": "stream",
     "text": [
      "LogisticRegression CV accuracy: Mean=0.908 Std=0.067\n",
      "RandomForestClassifier CV accuracy: Mean=0.942 Std=0.057\n",
      "GradientBoostingClassifier CV accuracy: Mean=0.950 Std=0.041\n",
      "SVC CV accuracy: Mean=0.958 Std=0.046\n",
      "\n",
      "Best model: SVC with mean accuracy = 0.958\n"
     ]
    }
   ],
   "source": [
    "# use cross fold validation to evaluate how each model performs\n",
    "scoring = 'accuracy' if task_type == 'classification' else 'r2'\n",
    "\n",
    "cv_folds = 5\n",
    "\n",
    "model_scores = {}\n",
    "\n",
    "for name, model in models.items():\n",
    "    scores = cross_val_score(model, X_train, y_train, cv=cv_folds, scoring=scoring)\n",
    "    model_scores[name] = scores\n",
    "    print(f\"{name} CV {scoring}: Mean={scores.mean():.3f} Std={scores.std():.3f}\")\n",
    "\n",
    "best_model_name = max(model_scores, key=lambda k: model_scores[k].mean())\n",
    "print(f\"\\nBest model: {best_model_name} with mean {scoring} = {model_scores[best_model_name].mean():.3f}\")"
   ]
  },
  {
   "cell_type": "code",
   "execution_count": 59,
   "id": "d63b674a-a72f-4b93-a8a2-a91ba1d86b68",
   "metadata": {},
   "outputs": [
    {
     "data": {
      "image/png": "[encoded data removed]",
      "text/plain": [
       "<Figure size 1000x600 with 1 Axes>"
      ]
     },
     "metadata": {},
     "output_type": "display_data"
    }
   ],
   "source": [
    "# potentially add a graphic to the report:\n",
    "plt.figure(figsize=(10, 6))\n",
    "plt.boxplot(model_scores.values(), tick_labels=model_scores.keys())\n",
    "plt.title(f'Model Comparison (CV {scoring})')\n",
    "plt.ylabel(scoring)\n",
    "plt.xticks(rotation=45)\n",
    "plt.grid(axis='y')\n",
    "plt.show()"
   ]
  },
  {
   "cell_type": "code",
   "execution_count": 60,
   "id": "0e4434d4-e01a-4f81-846a-4923d9bd21bb",
   "metadata": {},
   "outputs": [],
   "source": [
    "# define the parameter grid for fine tuning the model: \n",
    "param_grids = {\n",
    "    'LogisticRegression': {\n",
    "        'C': [0.01, 0.1, 1, 10],\n",
    "        'solver': ['liblinear', 'lbfgs']\n",
    "    },\n",
    "    'RandomForestClassifier': {\n",
    "        'n_estimators': [50, 100, 200],\n",
    "        'max_depth': [None, 10, 20]\n",
    "    },\n",
    "    'GradientBoostingClassifier': {\n",
    "        'learning_rate': [0.01, 0.1],\n",
    "        'n_estimators': [50, 100]\n",
    "    },\n",
    "    'SVC': {\n",
    "        'C': [0.1, 1, 10],\n",
    "        'kernel': ['linear', 'rbf']\n",
    "    },\n",
    "    'LinearRegression': {\n",
    "    },\n",
    "    'RandomForestRegressor': {\n",
    "        'n_estimators': [50, 100, 200],\n",
    "        'max_depth': [None, 10, 20, 30],\n",
    "        'min_samples_split': [2, 5, 10],\n",
    "        'min_samples_leaf': [1, 2, 4]\n",
    "    },\n",
    "    'GradientBoostingRegressor': {\n",
    "        'n_estimators': [50, 100, 200],\n",
    "        'learning_rate': [0.01, 0.1, 0.2],\n",
    "        'max_depth': [3, 5, 7],\n",
    "        'subsample': [0.8, 1.0]\n",
    "    },\n",
    "    'SVR': {\n",
    "        'kernel': ['linear', 'rbf'],\n",
    "        'C': [0.1, 1, 10],\n",
    "        'gamma': ['scale', 'auto']\n",
    "    }\n",
    "}"
   ]
  },
  {
   "cell_type": "code",
   "execution_count": 61,
   "id": "2fad62e5-a6b4-4ce4-8098-311919751ca1",
   "metadata": {},
   "outputs": [
    {
     "name": "stdout",
     "output_type": "stream",
     "text": [
      "Best params for SVC: {'C': 1, 'kernel': 'rbf'}\n",
      "Best CV accuracy from GridSearch: 0.9583333333333334\n"
     ]
    }
   ],
   "source": [
    "# instantiate an untrained version of the best model\n",
    "\n",
    "# fake the best model for each model:\n",
    "# best_model_name = 'SVC'\n",
    "# 'LogisticRegression'\n",
    "# 'RandomForestClassifier'\n",
    "# 'GradientBoostingClassifier'\n",
    "# 'SVC'\n",
    "best_model = models[best_model_name]\n",
    "\n",
    "# get the param grid from the saved list\n",
    "param_grid = param_grids.get(best_model_name, {})\n",
    "\n",
    "# run the grid search\n",
    "grid_search = GridSearchCV(best_model, param_grid, cv=5, scoring=scoring, n_jobs=-1)\n",
    "grid_search.fit(X_train, y_train)\n",
    "\n",
    "print(f\"Best params for {best_model_name}: {grid_search.best_params_}\")\n",
    "print(f\"Best CV {scoring} from GridSearch: {grid_search.best_score_}\")\n",
    "\n",
    "optimized_model = grid_search.best_estimator_"
   ]
  },
  {
   "cell_type": "code",
   "execution_count": 62,
   "id": "ee5729dd-bf71-4d76-8916-ea2ec0c89919",
   "metadata": {},
   "outputs": [
    {
     "name": "stdout",
     "output_type": "stream",
     "text": [
      "Train Accuracy: 0.9750\n",
      "Test Accuracy of the final model: 1.0000\n"
     ]
    }
   ],
   "source": [
    "# selection complete, train the optimized, best model\n",
    "optimized_model.fit(X_train, y_train)\n",
    "\n",
    "y_train_pred = optimized_model.predict(X_train)\n",
    "train_accuracy = accuracy_score(y_train, y_train_pred)\n",
    "y_pred = optimized_model.predict(X_test)\n",
    "test_score = accuracy_score(y_test, y_pred)\n",
    "print(f\"Train Accuracy: {train_accuracy:.4f}\")\n",
    "print(f\"Test Accuracy of the final model: {test_score:.4f}\")"
   ]
  },
  {
   "cell_type": "code",
   "execution_count": 63,
   "id": "2246891f-c215-45a9-b305-8ba0601b48b7",
   "metadata": {},
   "outputs": [
    {
     "data": {
      "image/png": "[encoded data removed]",
      "text/plain": [
       "<Figure size 640x480 with 2 Axes>"
      ]
     },
     "metadata": {},
     "output_type": "display_data"
    }
   ],
   "source": [
    "# example confusion matrix for report:\n",
    "y_pred = optimized_model.predict(X_test)\n",
    "cm = confusion_matrix(y_test, y_pred)\n",
    "disp = ConfusionMatrixDisplay(confusion_matrix=cm, display_labels=label_names)\n",
    "disp.plot(cmap='Blues')\n",
    "plt.title(f\"Confusion Matrix for {best_model_name}\")\n",
    "plt.show()"
   ]
  },
  {
   "cell_type": "markdown",
   "id": "2316212a-548c-4974-94a6-017f25553b76",
   "metadata": {},
   "source": [
    "So far, the model routing and multi-algorithm ML comparison seems to be working well. \n",
    "Next step is to create functions and methods for all of these to create an efficient pipeline."
   ]
  },
  {
   "cell_type": "code",
   "execution_count": 64,
   "id": "ffdb6c21-101d-4a57-a58d-597e9195490a",
   "metadata": {},
   "outputs": [
    {
     "name": "stderr",
     "output_type": "stream",
     "text": [
      "INFO: LogisticRegression: Mean accuracy = 0.908\n",
      "INFO: RandomForestClassifier: Mean accuracy = 0.950\n",
      "INFO: GradientBoostingClassifier: Mean accuracy = 0.950\n",
      "INFO: SVC: Mean accuracy = 0.958\n",
      "INFO: Best model selected: SVC with accuracy = 0.958\n",
      "INFO: Best params for SVC: {'C': 1, 'kernel': 'rbf'}\n",
      "INFO: Best CV score: 0.958\n",
      "INFO: Final Model Train Score: 0.9750\n",
      "INFO: Final Model Test Score: 1.0000\n"
     ]
    },
    {
     "name": "stdout",
     "output_type": "stream",
     "text": [
      "\n",
      "Best Model Selected: SVC\n",
      "Best Hyperparameters: {'C': 1, 'kernel': 'rbf'}\n",
      "Final Model Scores:\n",
      "   - Train Score: 0.9750\n",
      "   - Test Score: 1.0000\n"
     ]
    }
   ],
   "source": [
    "# backtracking here to test modeling engine with a classification task\n",
    "from engines.modeling_engine import ModelingEngine\n",
    "\n",
    "engine = ModelingEngine(X_train=X_train, y_train=y_train, X_test=X_test, y_test=y_test, task_type='classification')\n",
    "results = engine.run_modeling_engine()\n",
    "print(\"\\nBest Model Selected:\", results.get('best_model_name', 'None'))\n",
    "print(\"Best Hyperparameters:\", results.get('best_params', 'No tuning performed'))\n",
    "print(\"Final Model Scores:\")\n",
    "print(f\"   - Train Score: {results['final_scores'].get('train', 'N/A'):.4f}\")\n",
    "print(f\"   - Test Score: {results['final_scores'].get('test', 'N/A'):.4f}\")"
   ]
  },
  {
   "cell_type": "code",
   "execution_count": 65,
   "id": "9d74010e-f644-409b-abdf-a0e177360625",
   "metadata": {},
   "outputs": [
    {
     "name": "stdout",
     "output_type": "stream",
     "text": [
      "    mpg  cylinders  displacement horsepower  weight  acceleration  model year  \\\n",
      "0  18.0          8         307.0        130    3504          12.0          70   \n",
      "1  15.0          8         350.0        165    3693          11.5          70   \n",
      "2  18.0          8         318.0        150    3436          11.0          70   \n",
      "3  16.0          8         304.0        150    3433          12.0          70   \n",
      "4  17.0          8         302.0        140    3449          10.5          70   \n",
      "\n",
      "   origin                   car name  \n",
      "0       1  chevrolet chevelle malibu  \n",
      "1       1          buick skylark 320  \n",
      "2       1         plymouth satellite  \n",
      "3       1              amc rebel sst  \n",
      "4       1                ford torino  \n"
     ]
    }
   ],
   "source": [
    "# mimic the bare bones preprocessing steps:\n",
    "file_path = '/Users/danmcgill/Desktop/SWENG 894/repos/sweng-capstone-project/test-data/auto-mpg.csv'\n",
    "df = pd.read_csv(file_path)\n",
    "print(df.head())"
   ]
  },
  {
   "cell_type": "code",
   "execution_count": 66,
   "id": "2a5854f7-2603-4104-a131-88f8d29c60af",
   "metadata": {},
   "outputs": [
    {
     "name": "stdout",
     "output_type": "stream",
     "text": [
      "Features:\n",
      "   cylinders  displacement horsepower  weight  acceleration  model year  \\\n",
      "0          8         307.0        130    3504          12.0          70   \n",
      "1          8         350.0        165    3693          11.5          70   \n",
      "2          8         318.0        150    3436          11.0          70   \n",
      "3          8         304.0        150    3433          12.0          70   \n",
      "4          8         302.0        140    3449          10.5          70   \n",
      "\n",
      "   origin  \n",
      "0       1  \n",
      "1       1  \n",
      "2       1  \n",
      "3       1  \n",
      "4       1  \n",
      "Target:\n",
      "0    18.0\n",
      "1    15.0\n",
      "2    18.0\n",
      "3    16.0\n",
      "4    17.0\n",
      "Name: mpg, dtype: float64\n"
     ]
    }
   ],
   "source": [
    "target_column = 'mpg'\n",
    "X = df.drop(columns=[target_column, 'car name'])  \n",
    "y = df[target_column]\n",
    "print(\"Features:\")\n",
    "print(X.head())\n",
    "print(\"Target:\")\n",
    "print(y.head())"
   ]
  },
  {
   "cell_type": "code",
   "execution_count": 67,
   "id": "af79b653-83a5-4d9c-9e9b-644059c32070",
   "metadata": {},
   "outputs": [
    {
     "name": "stdout",
     "output_type": "stream",
     "text": [
      "Processed features shape: (392, 11)\n",
      "   displacement  horsepower    weight  acceleration  model year  cylinders_4  \\\n",
      "0      0.617571    0.456522  0.536150      0.238095         0.0          0.0   \n",
      "1      0.728682    0.646739  0.589736      0.208333         0.0          0.0   \n",
      "2      0.645995    0.565217  0.516870      0.178571         0.0          0.0   \n",
      "3      0.609819    0.565217  0.516019      0.238095         0.0          0.0   \n",
      "4      0.604651    0.510870  0.520556      0.148810         0.0          0.0   \n",
      "\n",
      "   cylinders_5  cylinders_6  cylinders_8  origin_2  origin_3  \n",
      "0          0.0          0.0          1.0       0.0       0.0  \n",
      "1          0.0          0.0          1.0       0.0       0.0  \n",
      "2          0.0          0.0          1.0       0.0       0.0  \n",
      "3          0.0          0.0          1.0       0.0       0.0  \n",
      "4          0.0          0.0          1.0       0.0       0.0  \n"
     ]
    }
   ],
   "source": [
    "# create a prototype for preprocessing: \n",
    "numeric_features = ['displacement', 'horsepower', 'weight', 'acceleration', 'model year']\n",
    "categorical_features = ['cylinders', 'origin']\n",
    "\n",
    "# handle non-numeric\n",
    "for col in numeric_features:\n",
    "    X[col] = pd.to_numeric(X[col], errors='coerce')\n",
    "valid_idx = X.dropna(subset=numeric_features).index\n",
    "X = X.loc[valid_idx]\n",
    "y = y.loc[valid_idx]\n",
    "\n",
    "scaler = MinMaxScaler()\n",
    "X_numeric_scaled = pd.DataFrame(scaler.fit_transform(X[numeric_features]), columns=numeric_features, index=X.index)\n",
    "encoder = OneHotEncoder(drop='first', sparse_output=False) # drop first to prevent matrix singularity - generally ok but not neccesary for tree based models\n",
    "X_cat_encoded = encoder.fit_transform(X[categorical_features])\n",
    "encoded_feature_names = encoder.get_feature_names_out(categorical_features)\n",
    "X_cat_encoded_df = pd.DataFrame(X_cat_encoded, columns=encoded_feature_names, index=X.index)\n",
    "X_processed = pd.concat([X_numeric_scaled, X_cat_encoded_df], axis=1)\n",
    "print(\"Processed features shape:\", X_processed.shape)\n",
    "print(X_processed.head())"
   ]
  },
  {
   "cell_type": "code",
   "execution_count": 68,
   "id": "b2aa2b45-57b5-49ac-bc7e-52dfb45a43e4",
   "metadata": {},
   "outputs": [],
   "source": [
    "X_train, X_test, y_train, y_test = train_test_split(X_processed, y, test_size=0.2, random_state=42)"
   ]
  },
  {
   "cell_type": "code",
   "execution_count": 69,
   "id": "816029e3-2700-4124-a3cb-8d3c8e4111e3",
   "metadata": {},
   "outputs": [
    {
     "name": "stdout",
     "output_type": "stream",
     "text": [
      "['LinearRegression', 'RandomForestRegressor', 'GradientBoostingRegressor', 'SVR']\n"
     ]
    }
   ],
   "source": [
    "# function to return models based on \n",
    "def get_models(task_type: str):\n",
    "\n",
    "    if task_type == 'classification':\n",
    "        models = {\n",
    "            'LogisticRegression': LogisticRegression(max_iter=1000),\n",
    "            'RandomForestClassifier': RandomForestClassifier(),\n",
    "            'GradientBoostingClassifier': GradientBoostingClassifier(),\n",
    "            'SVC': SVC()\n",
    "        }\n",
    "    else:\n",
    "        models = {\n",
    "            'LinearRegression': LinearRegression(),\n",
    "            'RandomForestRegressor': RandomForestRegressor(),\n",
    "            'GradientBoostingRegressor': GradientBoostingRegressor(),\n",
    "            'SVR': SVR()\n",
    "        }\n",
    "    return models\n",
    "\n",
    "task_type = 'regression'  # or 'classification'\n",
    "models = get_models(task_type)\n",
    "print(list(models.keys()))"
   ]
  },
  {
   "cell_type": "code",
   "execution_count": 70,
   "id": "a7fdfb19-f1ee-4c96-83d3-16f9875e09aa",
   "metadata": {},
   "outputs": [
    {
     "name": "stdout",
     "output_type": "stream",
     "text": [
      "LinearRegression CV r2: Mean=0.818 Std=0.038\n",
      "RandomForestRegressor CV r2: Mean=0.858 Std=0.030\n",
      "GradientBoostingRegressor CV r2: Mean=0.858 Std=0.034\n",
      "SVR CV r2: Mean=0.783 Std=0.019\n",
      "\n",
      "Best model: GradientBoostingRegressor with mean r2 = 0.858\n",
      "Best model returned: SVC()\n"
     ]
    }
   ],
   "source": [
    "def evaluate_models(models, X_train, y_train, task_type='classification', cv_folds=5):\n",
    "\n",
    "    scoring = 'accuracy' if task_type == 'classification' else 'r2'\n",
    "    model_scores = {}\n",
    "\n",
    "    for name, model in models.items():\n",
    "        scores = cross_val_score(model, X_train, y_train, cv=cv_folds, scoring=scoring)\n",
    "        model_scores[name] = scores\n",
    "        print(f\"{name} CV {scoring}: Mean={scores.mean():.3f} Std={scores.std():.3f}\")\n",
    "\n",
    "    best_model_name = max(model_scores, key=lambda k: model_scores[k].mean())\n",
    "    print(f\"\\nBest model: {best_model_name} with mean {scoring} = {model_scores[best_model_name].mean():.3f}\")\n",
    "\n",
    "    return model_scores, best_model_name\n",
    "\n",
    "model_scores, best_model_name = evaluate_models(models, X_train, y_train, task_type)\n",
    "print(\"Best model returned:\", best_model)"
   ]
  },
  {
   "cell_type": "code",
   "execution_count": 71,
   "id": "953d8a22-0dc7-4b0a-afc0-b3e8135e877e",
   "metadata": {},
   "outputs": [
    {
     "data": {
      "image/png": "[encoded data removed]",
      "text/plain": [
       "<Figure size 1000x600 with 1 Axes>"
      ]
     },
     "metadata": {},
     "output_type": "display_data"
    }
   ],
   "source": [
    "def plot_model_comparison(model_scores, task_type):\n",
    "\n",
    "    scoring = 'accuracy' if task_type == 'classification' else 'r2'\n",
    "\n",
    "    plt.figure(figsize=(10, 6))\n",
    "    plt.boxplot(model_scores.values(), tick_labels=model_scores.keys())\n",
    "    plt.title(f'Model Comparison (CV {scoring})')\n",
    "    plt.ylabel(scoring)\n",
    "    plt.xticks(rotation=45)\n",
    "    plt.grid(axis='y')\n",
    "    plt.show()\n",
    "\n",
    "plot_model_comparison(model_scores, task_type='classification')\n"
   ]
  },
  {
   "cell_type": "code",
   "execution_count": 72,
   "id": "711a7685-9baa-4208-8588-aaabf0d25526",
   "metadata": {},
   "outputs": [
    {
     "name": "stdout",
     "output_type": "stream",
     "text": [
      "Best params for GradientBoostingRegressor: {'learning_rate': 0.2, 'max_depth': 3, 'n_estimators': 100, 'subsample': 0.8}\n",
      "Best CV r2 from GridSearch: 0.8635955283000778\n"
     ]
    }
   ],
   "source": [
    "def tune_best_model(models, best_model_name, param_grids, X_train, y_train, task_type):\n",
    "\n",
    "    scoring = 'accuracy' if task_type == 'classification' else 'r2'\n",
    "\n",
    "    best_model = models[best_model_name]\n",
    "    param_grid = param_grids.get(best_model_name, {})\n",
    "\n",
    "    grid_search = GridSearchCV(best_model, param_grid, cv=5, scoring=scoring, n_jobs=-1)\n",
    "    grid_search.fit(X_train, y_train)\n",
    "\n",
    "    print(f\"Best params for {best_model_name}: {grid_search.best_params_}\")\n",
    "    print(f\"Best CV {scoring} from GridSearch: {grid_search.best_score_}\")\n",
    "\n",
    "    return grid_search.best_estimator_\n",
    "\n",
    "optimized_model = tune_best_model(models, best_model_name, param_grids, X_train, y_train, task_type)"
   ]
  },
  {
   "cell_type": "code",
   "execution_count": 73,
   "id": "3c8925e7-f7f5-4795-8893-d5c0c2eb3fb1",
   "metadata": {},
   "outputs": [
    {
     "name": "stdout",
     "output_type": "stream",
     "text": [
      "Train R2 Score: 0.9886\n",
      "Test R2 Score: 0.8892\n"
     ]
    }
   ],
   "source": [
    "def evaluate_final_model(model, X_train, y_train, X_test, y_test, task_type='classification'):\n",
    "\n",
    "    model.fit(X_train, y_train)\n",
    "    \n",
    "    y_train_pred = model.predict(X_train)\n",
    "    y_test_pred = model.predict(X_test)\n",
    "    \n",
    "    if task_type == 'classification':\n",
    "        train_score = accuracy_score(y_train, y_train_pred)\n",
    "        test_score = accuracy_score(y_test, y_test_pred)\n",
    "        metric_name = \"Accuracy\"\n",
    "    else:  # regression\n",
    "        train_score = r2_score(y_train, y_train_pred)\n",
    "        test_score = r2_score(y_test, y_test_pred)\n",
    "        metric_name = \"R2 Score\"\n",
    "    \n",
    "    print(f\"Train {metric_name}: {train_score:.4f}\")\n",
    "    print(f\"Test {metric_name}: {test_score:.4f}\")\n",
    "    \n",
    "    return {'train_score': train_score, 'test_score': test_score}\n",
    "\n",
    "results = evaluate_final_model(optimized_model, X_train, y_train, X_test, y_test, task_type='regression')\n"
   ]
  },
  {
   "cell_type": "markdown",
   "id": "ec3170ec-6408-4300-b0c0-33619c5e1b2f",
   "metadata": {},
   "source": [
    "## Functions\n",
    "\n",
    "- `get_models(task_type)` — returns models dictionary for classification or regression.  \n",
    "- `evaluate_models(models, X_train, y_train, task_type)` — runs CV, prints scores, plots comparison, returns best model name.  \n",
    "- `plot_model_comparison(model_scores, task_type)` — makes box plot of all models.  \n",
    "- `tune_best_model(best_model_name, models, param_grids, X_train, y_train, task_type)` — runs GridSearchCV to optimize best model, returns optimized model.  \n",
    "- `evaluate_final_model(model, X_train, y_train, X_test, y_test, task_type)` — fits model and prints train/test performance metrics.  "
   ]
  },
  {
   "cell_type": "code",
   "execution_count": 75,
   "id": "34bd3a93-20c6-4fd0-9ef8-df8b0264121c",
   "metadata": {},
   "outputs": [
    {
     "name": "stderr",
     "output_type": "stream",
     "text": [
      "INFO: LinearRegression: Mean r2 = 0.818\n",
      "INFO: RandomForestRegressor: Mean r2 = 0.860\n",
      "INFO: GradientBoostingRegressor: Mean r2 = 0.858\n",
      "INFO: SVR: Mean r2 = 0.783\n",
      "INFO: Best model selected: RandomForestRegressor with r2 = 0.860\n",
      "INFO: Best params for RandomForestRegressor: {'max_depth': None, 'min_samples_leaf': 1, 'min_samples_split': 2, 'n_estimators': 200}\n",
      "INFO: Best CV score: 0.863\n",
      "INFO: Final Model Train Score: 0.9823\n",
      "INFO: Final Model Test Score: 0.8954\n"
     ]
    },
    {
     "name": "stdout",
     "output_type": "stream",
     "text": [
      "\n",
      "Best Model Selected: RandomForestRegressor\n",
      "Best Hyperparameters: {'max_depth': None, 'min_samples_leaf': 1, 'min_samples_split': 2, 'n_estimators': 200}\n",
      "Final Model Scores:\n",
      "   - Train Score: 0.9823\n",
      "   - Test Score: 0.8954\n"
     ]
    }
   ],
   "source": [
    "# Now import class from modeling_engine\n",
    "from engines.modeling_engine import ModelingEngine\n",
    "\n",
    "engine = ModelingEngine(X_train=X_train, y_train=y_train, X_test=X_test, y_test=y_test, task_type='regression')\n",
    "results = engine.run_modeling_engine()\n",
    "print(\"\\nBest Model Selected:\", results.get('best_model_name', 'None'))\n",
    "print(\"Best Hyperparameters:\", results.get('best_params', 'No tuning performed'))\n",
    "print(\"Final Model Scores:\")\n",
    "print(f\"   - Train Score: {results['final_scores'].get('train', 'N/A'):.4f}\")\n",
    "print(f\"   - Test Score: {results['final_scores'].get('test', 'N/A'):.4f}\")\n"
   ]
  },
  {
   "cell_type": "code",
   "execution_count": null,
   "id": "581e46a1-8cb0-4d27-92eb-d52a354ee8dc",
   "metadata": {},
   "outputs": [],
   "source": []
  }
 ],
 "metadata": {
  "kernelspec": {
   "display_name": "Python (sweng_env)",
   "language": "python",
   "name": "sweng_env"
  },
  "language_info": {
   "codemirror_mode": {
    "name": "ipython",
    "version": 3
   },
   "file_extension": ".py",
   "mimetype": "text/x-python",
   "name": "python",
   "nbconvert_exporter": "python",
   "pygments_lexer": "ipython3",
   "version": "3.13.2"
  }
 },
 "nbformat": 4,
 "nbformat_minor": 5
}
